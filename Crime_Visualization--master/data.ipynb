{
 "cells": [
  {
   "cell_type": "code",
   "execution_count": 1,
   "id": "initial_id",
   "metadata": {
    "collapsed": true,
    "ExecuteTime": {
     "end_time": "2023-09-28T11:53:18.384106700Z",
     "start_time": "2023-09-28T11:53:17.114288800Z"
    }
   },
   "outputs": [],
   "source": [
    "import pandas as pd"
   ]
  },
  {
   "cell_type": "code",
   "execution_count": 2,
   "outputs": [
    {
     "name": "stdout",
     "output_type": "stream",
     "text": [
      "Index(['S. No. (Col.1)', 'City (Col.2)', 'Illegal Gain (Col.3)',\n",
      "       'Revenge (Col.4)', 'Insult to Modesty of Women (Col.5)',\n",
      "       'Sexual Exploitation (Col.6)', 'Extortion/ Black-mailing (Col.7)',\n",
      "       'Prank / Satisfaction of Gaining Control (Col.8)',\n",
      "       'Causing Disrepute (Col.9)',\n",
      "       'Inciting Hate Crimes Against Community (Col.10)',\n",
      "       'Developing own Business/ Interest (Col.11)',\n",
      "       'Political Motives (Col.12)', 'Disrupt Public Services (Col.13)',\n",
      "       'Piracy (Col.14)', 'Steal Information for Espionage (Col.15)',\n",
      "       'Sale/ Purchase of Illegal Drugs/ Other Items (Col.16)',\n",
      "       'Serious Psychiatric Illness viz. Perversion, etc. (Col.17)',\n",
      "       'Others (Col.18)', 'Total (Col.19) = (Col.1 to Col. 19)'],\n",
      "      dtype='object')\n"
     ]
    }
   ],
   "source": [
    "df = pd.read_csv('src/lib/data/2016/Table_9B.3_2016.csv')\n",
    "\n",
    "# Print all column names\n",
    "print(df.columns)"
   ],
   "metadata": {
    "collapsed": false,
    "ExecuteTime": {
     "end_time": "2023-09-28T11:53:50.290092200Z",
     "start_time": "2023-09-28T11:53:50.258627700Z"
    }
   },
   "id": "78db1a5cca66d236"
  }
 ],
 "metadata": {
  "kernelspec": {
   "display_name": "Python 3",
   "language": "python",
   "name": "python3"
  },
  "language_info": {
   "codemirror_mode": {
    "name": "ipython",
    "version": 2
   },
   "file_extension": ".py",
   "mimetype": "text/x-python",
   "name": "python",
   "nbconvert_exporter": "python",
   "pygments_lexer": "ipython2",
   "version": "2.7.6"
  }
 },
 "nbformat": 4,
 "nbformat_minor": 5
}
